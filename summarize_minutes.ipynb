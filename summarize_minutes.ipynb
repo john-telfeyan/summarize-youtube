{
 "cells": [
  {
   "cell_type": "code",
   "execution_count": 5,
   "metadata": {},
   "outputs": [],
   "source": [
    "import openai\n",
    "from youtube_transcript_api import YouTubeTranscriptApi\n",
    "\n"
   ]
  },
  {
   "cell_type": "code",
   "execution_count": 24,
   "metadata": {},
   "outputs": [
    {
     "name": "stdout",
     "output_type": "stream",
     "text": [
      "51\n"
     ]
    }
   ],
   "source": [
    "key_file=\".secrets/gpt2.key\" # location of OpenAI key\n",
    "summary_scope = 2  # length of time to sumarize in minutes\n",
    "system_role_description = \"You are a co-reference based summarization algorithm\"\n",
    "\n",
    "with open(key_file, 'r') as f:\n",
    "    key = f.read()\n",
    "\n",
    "openai.api_key = key\n",
    "print(len(openai.api_key))"
   ]
  },
  {
   "cell_type": "code",
   "execution_count": 20,
   "metadata": {},
   "outputs": [],
   "source": [
    "video_list = [\"RIM1pKXQ4Qs\", \"K1e3Bw23u-4\"]\n"
   ]
  },
  {
   "cell_type": "code",
   "execution_count": 21,
   "metadata": {},
   "outputs": [
    {
     "data": {
      "text/plain": [
       "{'text': '[Music]', 'start': 0.88, 'duration': 3.24}"
      ]
     },
     "execution_count": 21,
     "metadata": {},
     "output_type": "execute_result"
    }
   ],
   "source": [
    "video_id = video_list[1]\n",
    "transcript= YouTubeTranscriptApi.get_transcript(video_id)\n",
    "transcript [0]"
   ]
  },
  {
   "cell_type": "code",
   "execution_count": 25,
   "metadata": {},
   "outputs": [
    {
     "data": {
      "text/plain": [
       "[\" [Music] it was December 2023 just one week since a new government came to power in Warsaw and then Poland State broadcaster TVP was suddenly taken off the air just what happened that night it depends on who's narrating the tale and which side of Poland's political Rift they're on TVP was unlawfully shut down in an instant dozens even hundreds of employee passes stopped working one of the editors decided that the presenter should inform viewers that the TVP is being unlawfully taken over at the moment he only managed to say a few sentences before the signal was cut off it was a big relief for many people in Poland because public media needs to be impartial and for 8 years public media was everything but impartial the populist party Law And Justice was slicing democracy Cat by cat Tusk decided to stop it immediately so obviously for anybody it is like a shock therapy [Music] Poland's new prime minister Donald tusk was the man administering this shock therapy to the state media the new government came into power in December last year and reforming the media was at the top of its agenda the Coalition is Center left and proe replacing the right-wing government\",\n",
       " \"headed by the law and Justice party known in Poland by its acronym peace for 8 years from 2015 until 2023 peace was in power and in that time it had a transformative effect on the country's media it politicized Poland's media Regulators turned the national broadcaster into what the Council of Europe called a propaganda channel for the ruling party private media Outlets either bought out by local governments or State Corporations or private conglomerates Allied to peace regulations and laws came into effect that made the survival of critical media Outlets incredibly challenging so when the former government the law and Justice government left office um public media in particular had been completely corrupted the main public TV channels was used to promote the government's agenda attack its opponents the main evening news every day would generally involve promoting the government's narrative the channel was attacking the opposition um usually in a very unsettle way what happened to TVP sounds like a story from some strange place that knows no democracy however the laws regarding how management teams are chosen for public TV had been changed by peace back in 2015 when they came to power and those are the laws Tusk made use of before the changes there was regulation to ensure the selection of management Personnel\",\n",
       " \"wasn't purely political it was all done according to EU standards when peace changed the law it enabled politicians to directly appoint and dismiss the managers of public media Outlets Tusk had come to power promising to depoliticize um public media but many argue he's really just the new Administration received criticism a couple of months ago when it published an advert celebrating its freedom under the new management but every single politician that was shown in that advert speaking on the channel was from the new ruling Coalition so there were no opposition voices on there they want to have a single narrative nowadays the immigration crisis is rarely spoken about no one wants to discuss the risks of moving our currency from the zotty to the Euro or issues like Rising energy costs the destruction of TVP means that people are not being informed and let me draw your attention to tvp's viewership which is collapsing dramatically that is not an exaggeration according to a survey conducted by the media analytics firm Neil tvp's viewership in February 2024 had dropped by 72% compared with audience numbers in February 2023 one of the biggest media beneficiaries of tvp's nose diving numbers is a right-wing populist Channel TV Republica aligned with peace it emulates the style of Fox News in the US or C news in France\",\n",
       " \"many peace appointed employees who were ousted from State media upon TK's surval migrated to TV Republica and according to the neelen survey the numbers of viewers in February this year was 30 times the audience just one year ago also in February the Channel's advertising Revenue quadr we contacted TV Republica to speak with them about the streak of success they're enjoying they didn't respond when we asked the current director of TVP the man appointed by T government he had a very specific perspective on the falling numbers of his Network and the jump TV Republica is seen the viewer of public media for 8 years it was very specific viewer and uh there were people that were victims of populism so that was obvious that they will move to to TV Republica which is very populistic for some people probably Current public television is more boring because there are no madeup Sensational things uh there there is no language of hatred basically it became more flat so obviously I can understand that for some people it's less excitement but we are not here to excite people we are here to to deliver the news the facts conservative viewers should not be abandoned after all the idea of public media is to represent all voices in society of course those who enjoy the emotions and aggression of hate speech should feel abandoned since that language and tone has no place here\"]"
      ]
     },
     "execution_count": 25,
     "metadata": {},
     "output_type": "execute_result"
    }
   ],
   "source": [
    "\n",
    "break_point = summary_scope\n",
    "segments = []\n",
    "segment_text = \"\"\n",
    "for blurb in transcript: \n",
    "    if blurb[\"start\"]/60.0 >= break_point:\n",
    "        segments.append(segment_text)\n",
    "        segment_text = blurb[\"text\"]\n",
    "        break_point += summary_scope\n",
    "\n",
    "    else:\n",
    "\n",
    "        segment_text += \" \"+ blurb[\"text\"]\n",
    "segments"
   ]
  },
  {
   "cell_type": "code",
   "execution_count": 26,
   "metadata": {},
   "outputs": [
    {
     "name": "stdout",
     "output_type": "stream",
     "text": [
      "0: In December 2023, the new government in Poland, led by Prime Minister Donald Tusk, shockingly shut down the state broadcaster TVP, sparking controversy and divisions along political lines.\n",
      "2: The Law and Justice party, known in Poland as PiS, controlled the country's media for 8 years, leading to the politicization and corruption of public TV channels through regulatory changes that made it difficult for critical outlets to survive.\n",
      "4: The politicized control of public media outlets under the new ruling administration has sparked criticism as the absence of opposition voices and the sharp decline in viewership of TVP signal a worrying trend towards a single narrative lacking in diversity and transparency.\n",
      "6: Many peace appointed employees ousted from State media migrated to TV Republica, where viewership increased significantly, but the channel did not respond to inquiries about their success, contrasting their more sensational approach with the more restrained public television that aims to deliver news and facts to all voices in society.\n"
     ]
    }
   ],
   "source": [
    "\n",
    "user_input = \"Summarize the following text by returning one sentence that uses mostly words from the text itself:\\n  \"\n",
    "\n",
    "for i, seg in enumerate(segments):\n",
    "    msg =[]\n",
    "    msg.append({\"role\": \"system\", \"content\" : system_role_description})\n",
    "    msg.append({\"role\": \"user\", \"content\" : user_input + seg})\n",
    "    completion = openai.ChatCompletion.create(model=\"gpt-3.5-turbo\",\n",
    "            messages=msg)\n",
    "    respons_content = completion[\"choices\"][0][\"message\"][\"content\"]\n",
    "    print(f\"{i*summary_scope}: {respons_content}\")\n",
    "    "
   ]
  },
  {
   "cell_type": "code",
   "execution_count": null,
   "metadata": {},
   "outputs": [],
   "source": []
  },
  {
   "cell_type": "code",
   "execution_count": 20,
   "metadata": {},
   "outputs": [
    {
     "data": {
      "text/plain": [
       "1.6133166666666667"
      ]
     },
     "execution_count": 20,
     "metadata": {},
     "output_type": "execute_result"
    }
   ],
   "source": [
    "transcript[40]['start']/60"
   ]
  },
  {
   "cell_type": "code",
   "execution_count": null,
   "metadata": {},
   "outputs": [],
   "source": []
  }
 ],
 "metadata": {
  "kernelspec": {
   "display_name": "ds",
   "language": "python",
   "name": "python3"
  },
  "language_info": {
   "codemirror_mode": {
    "name": "ipython",
    "version": 3
   },
   "file_extension": ".py",
   "mimetype": "text/x-python",
   "name": "python",
   "nbconvert_exporter": "python",
   "pygments_lexer": "ipython3",
   "version": "3.9.7"
  },
  "orig_nbformat": 4
 },
 "nbformat": 4,
 "nbformat_minor": 2
}
